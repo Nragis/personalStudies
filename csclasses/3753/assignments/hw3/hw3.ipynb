{
 "cells": [
  {
   "cell_type": "code",
   "execution_count": 66,
   "id": "arbitrary-passage",
   "metadata": {},
   "outputs": [],
   "source": [
    "import numpy as np\n",
    "from scipy.stats import norm\n",
    "from matplotlib import pyplot as plt\n",
    "import pandas as pd"
   ]
  },
  {
   "cell_type": "markdown",
   "id": "worst-present",
   "metadata": {},
   "source": [
    "# 1"
   ]
  },
  {
   "cell_type": "code",
   "execution_count": 12,
   "id": "interesting-organizer",
   "metadata": {},
   "outputs": [
    {
     "name": "stdout",
     "output_type": "stream",
     "text": [
      "A*B =  [[76 46]\n",
      " [54 27]]\n",
      "A*C =  [[76 46 44]\n",
      " [54 27 30]]\n",
      "A*D does not work because the numver of colums in A does not match the number of rows in D\n"
     ]
    }
   ],
   "source": [
    "A = np.array([[2,8,4],[5,4,2]])\n",
    "B = np.array([[4,1],[6,4],[5,3]])\n",
    "C = np.array([[4,1,2],[6,4,3],[5,3,4]])\n",
    "D = np.array([[4,1,2],[6,4,3]])\n",
    "print(\"A*B = \",np.dot(A,B))\n",
    "print(\"A*C = \",np.dot(A,C))\n",
    "try:\n",
    "    print(\"A*D = \",np.dot(A,D))\n",
    "except:\n",
    "    print(\"A*D does not work because the numver of colums in A does not match the number of rows in D\")"
   ]
  },
  {
   "cell_type": "markdown",
   "id": "christian-combine",
   "metadata": {},
   "source": [
    "# 2"
   ]
  },
  {
   "cell_type": "code",
   "execution_count": 15,
   "id": "consistent-symposium",
   "metadata": {},
   "outputs": [
    {
     "data": {
      "text/plain": [
       "<matplotlib.collections.PathCollection at 0x7fb991a47dc0>"
      ]
     },
     "execution_count": 15,
     "metadata": {},
     "output_type": "execute_result"
    },
    {
     "data": {
      "image/png": "[encoded data removed]",
      "text/plain": [
       "<Figure size 432x288 with 1 Axes>"
      ]
     },
     "metadata": {
      "needs_background": "light"
     },
     "output_type": "display_data"
    }
   ],
   "source": [
    "x = np.array([50, 68, 74, 70, 65, 61, 63, 74, 62])\n",
    "y = np.array([170, 193, 209, 185, 195, 188, 188, 202, 183])\n",
    "plt.scatter(x,y)"
   ]
  },
  {
   "cell_type": "code",
   "execution_count": 21,
   "id": "familiar-october",
   "metadata": {},
   "outputs": [],
   "source": [
    "def zscore(x):\n",
    "    return [(ix - np.mean(x))/np.std(x) for ix in x]"
   ]
  },
  {
   "cell_type": "code",
   "execution_count": 22,
   "id": "tender-colorado",
   "metadata": {},
   "outputs": [
    {
     "data": {
      "text/plain": [
       "<matplotlib.collections.PathCollection at 0x7fb9919f6310>"
      ]
     },
     "execution_count": 22,
     "metadata": {},
     "output_type": "execute_result"
    },
    {
     "data": {
      "image/png": "[encoded data removed]",
      "text/plain": [
       "<Figure size 432x288 with 1 Axes>"
      ]
     },
     "metadata": {
      "needs_background": "light"
     },
     "output_type": "display_data"
    }
   ],
   "source": [
    "plt.scatter(zscore(x),zscore(y))"
   ]
  },
  {
   "cell_type": "code",
   "execution_count": 24,
   "id": "honest-publication",
   "metadata": {},
   "outputs": [],
   "source": [
    "def r(x,y):\n",
    "    xmean = np.mean(x)\n",
    "    ymean = np.mean(y)\n",
    "    topSum = 0\n",
    "    for i in range(len(x)):\n",
    "        topSum += (x[i] - xmean)*(y[i] - ymean)\n",
    "    return topSum/np.sqrt(sum([ (ix - xmean)**2 for ix in x ])*sum([ (iy - ymean)**2 for iy in y ]))"
   ]
  },
  {
   "cell_type": "code",
   "execution_count": 48,
   "id": "continent-federal",
   "metadata": {},
   "outputs": [
    {
     "name": "stdout",
     "output_type": "stream",
     "text": [
      "0.581533767527632\n",
      "0.5815337675276321\n"
     ]
    }
   ],
   "source": [
    "print(r(x,y))\n",
    "print(np.corrcoef(x,y)[1,0])"
   ]
  },
  {
   "cell_type": "markdown",
   "id": "addressed-utility",
   "metadata": {},
   "source": [
    "These are the same"
   ]
  },
  {
   "cell_type": "markdown",
   "id": "honey-arthur",
   "metadata": {},
   "source": [
    "# 3"
   ]
  },
  {
   "cell_type": "code",
   "execution_count": 30,
   "id": "fiscal-eagle",
   "metadata": {},
   "outputs": [
    {
     "data": {
      "text/plain": [
       "<matplotlib.collections.PathCollection at 0x7fb991ade2b0>"
      ]
     },
     "execution_count": 30,
     "metadata": {},
     "output_type": "execute_result"
    },
    {
     "data": {
      "image/png": "[encoded data removed]",
      "text/plain": [
       "<Figure size 432x288 with 1 Axes>"
      ]
     },
     "metadata": {
      "needs_background": "light"
     },
     "output_type": "display_data"
    }
   ],
   "source": [
    "x = np.array([ 50, 68, 74, 70, 65, 61, 63, 74, 62, 80])\n",
    "y = np.array([170, 193, 209, 185, 195, 188, 188, 202, 183, 1000])\n",
    "plt.scatter(x,y)"
   ]
  },
  {
   "cell_type": "code",
   "execution_count": 46,
   "id": "amino-grove",
   "metadata": {},
   "outputs": [
    {
     "name": "stdout",
     "output_type": "stream",
     "text": [
      "Pearson Coef \n"
     ]
    },
    {
     "data": {
      "text/plain": [
       "0.5815337675276321"
      ]
     },
     "execution_count": 46,
     "metadata": {},
     "output_type": "execute_result"
    }
   ],
   "source": [
    "print(\"Pearson Coef \")\n",
    "np.corrcoef(x,y)[1,0]"
   ]
  },
  {
   "cell_type": "code",
   "execution_count": 45,
   "id": "unlimited-egypt",
   "metadata": {},
   "outputs": [
    {
     "name": "stdout",
     "output_type": "stream",
     "text": [
      "Spearman Coef\n"
     ]
    },
    {
     "data": {
      "text/plain": [
       "0.4545454545454545"
      ]
     },
     "execution_count": 45,
     "metadata": {},
     "output_type": "execute_result"
    }
   ],
   "source": [
    "print(\"Spearman Coef\")\n",
    "np.corrcoef(x.argsort(),y.argsort())[1,0]"
   ]
  },
  {
   "cell_type": "markdown",
   "id": "difficult-population",
   "metadata": {},
   "source": [
    "These two coefs are obviously not the the same. Spearmans is better because it properly identifies the correlation of any monotonic function, whereas pearson is based upon a linear model."
   ]
  },
  {
   "cell_type": "markdown",
   "id": "selected-category",
   "metadata": {},
   "source": [
    "The closer the abs of the coef to 1, the stronger correlation implied.\n",
    "Positive number means positive correlation and vice versa"
   ]
  },
  {
   "cell_type": "markdown",
   "id": "traditional-palmer",
   "metadata": {},
   "source": [
    "# 4"
   ]
  },
  {
   "cell_type": "code",
   "execution_count": 59,
   "id": "compact-electric",
   "metadata": {},
   "outputs": [
    {
     "name": "stdout",
     "output_type": "stream",
     "text": [
      "P(-0.5 <= X < .5) =\n",
      "0.38292492254802624\n",
      "or\n",
      "0.38292492254802624\n"
     ]
    }
   ],
   "source": [
    "print(\"P(-0.5 <= X < .5) =\")\n",
    "print(norm.cdf(.5) - norm.cdf(-.5))\n",
    "print(\"or\")\n",
    "print(2*(norm.cdf(.5)- .5))"
   ]
  },
  {
   "cell_type": "markdown",
   "id": "beginning-greenhouse",
   "metadata": {},
   "source": [
    "# 5"
   ]
  },
  {
   "cell_type": "markdown",
   "id": "stuffed-miniature",
   "metadata": {},
   "source": [
    "### a\n",
    "X = N(𝜇,$𝜎^2$) \\\n",
    "X' = aX + b \\\n",
    "X' ~ N(𝜇 + b, $a^2𝜎^2$) \\\n",
    "\n",
    "### b\n",
    "Z = $\\frac{(X - 𝜇)}{𝜎}$\n",
    "\n",
    "### c\n",
    "X ~ N(5, 9) \\\n",
    "P(2 <= X <= 7) =  "
   ]
  },
  {
   "cell_type": "code",
   "execution_count": 63,
   "id": "exterior-litigation",
   "metadata": {},
   "outputs": [
    {
     "data": {
      "text/plain": [
       "0.58885220852162"
      ]
     },
     "execution_count": 63,
     "metadata": {},
     "output_type": "execute_result"
    }
   ],
   "source": [
    "norm.cdf(7, 5, 3) - norm.cdf(2, 5, 3)"
   ]
  },
  {
   "cell_type": "markdown",
   "id": "portable-clothing",
   "metadata": {},
   "source": [
    "### d\n",
    "X ~ N(0,1) \\\n",
    "P(-1.5 <= X <= 1.5)"
   ]
  },
  {
   "cell_type": "code",
   "execution_count": 64,
   "id": "verbal-incentive",
   "metadata": {},
   "outputs": [
    {
     "data": {
      "text/plain": [
       "0.8663855974622838"
      ]
     },
     "execution_count": 64,
     "metadata": {},
     "output_type": "execute_result"
    }
   ],
   "source": [
    "norm.cdf(1.5) - norm.cdf(-1.5)"
   ]
  },
  {
   "cell_type": "markdown",
   "id": "assumed-conviction",
   "metadata": {},
   "source": [
    "# 6"
   ]
  },
  {
   "cell_type": "markdown",
   "id": "electronic-saturn",
   "metadata": {},
   "source": [
    "$P(A \\cup B) = P(A) + P(B) - P(A \\cap B)$ \\\n",
    "$P(A \\mid B) = P(A \\cap B)/P(B)$ \\\n",
    "$P(A \\cap B) = P(B)P(A \\mid B)$ \\\n",
    "If A and B are independent, then $P(A \\cap B) = P(A)P(B)$"
   ]
  },
  {
   "cell_type": "markdown",
   "id": "certain-bryan",
   "metadata": {},
   "source": [
    "# 7"
   ]
  },
  {
   "cell_type": "markdown",
   "id": "approved-cartoon",
   "metadata": {},
   "source": [
    "$P( $d is even$ | d < 5 ) = P($\"d is even\" $ \\cap $ $d<5)/P(d<5) = (1/4)/(1/2) = 2/4 = 4/8 = P( $d is even$)$. \\\n",
    "Thus, \"d < 5\" and \"d is even\" are independent."
   ]
  },
  {
   "cell_type": "markdown",
   "id": "affected-professor",
   "metadata": {},
   "source": [
    "# 8"
   ]
  },
  {
   "cell_type": "markdown",
   "id": "inside-dividend",
   "metadata": {},
   "source": [
    "P( d is loaded | rolled four 6s in a row) = $\\frac{P(\\text{rolled four 6s in a row} \\mid \\text{d is loaded})P(\\text{d is loaded})}{P(\\text{rolled four 6s in a row})}$ = $\\frac{P(\\text{rolled four 6s in a row} \\mid \\text{d is loaded})P(\\text{d is loaded})}{P(\\text{rolled four 6s in a row} \\mid \\text{d is loaded})P(\\text{d is loaded}) + P(\\text{rolled four 6s in a row} \\mid \\text{d is fair})P(\\text{d is fair})}$ = $\\frac{(0.5)^4(0.05)}{(0.5)^4(0.05) + (1/6)^4(0.95)}$ = $\\frac{0.003125}{0.003125 + (0.95)/(6^4)}$ = $0.81$"
   ]
  },
  {
   "cell_type": "markdown",
   "id": "hydraulic-column",
   "metadata": {},
   "source": [
    "# 9"
   ]
  },
  {
   "cell_type": "markdown",
   "id": "eligible-passport",
   "metadata": {},
   "source": [
    "### a\n",
    "\n",
    "P( is infected | tests positive ) = $\\frac{P(\\text{ tests positive } \\mid \\text{ is infected })P(\\text{ is infected })}{P(\\text{ tests positive })}$ = $\\frac{P(\\text{ tests positive } \\mid \\text{ is infected })P(\\text{ is infected })}{P(\\text{ tests positive } | \\text { is infected})P(\\text{ is infected }) + P(\\text{ tests positive } | \\text { is not infected})P(\\text{ is not infected })}$ = $\\frac{(0.999)(0.0001)}{(0.999)(0.0001) + (0.0002)(0.9999)}$ = $\\frac{0.0000999}{0.0000999 + 0.00019998}$ = $\\frac{555}{1666} \\approx 33.31\\%$\n",
    "\n",
    "### b\n",
    "\n",
    "P( is not infected | tests negative ) = $\\frac{P(\\text{ tests negative } \\mid \\text{ is not infected })P(\\text{ is not infected })}{P(\\text{ tests negative })}$ = $\\frac{P(\\text{ tests negative } \\mid \\text{ is not infected })P(\\text{ is not infected })}{P(\\text{ tests negative } | \\text { is not infected})P(\\text{ is not infected }) + P(\\text{ tests negative } | \\text { is infected})P(\\text{ is infected })}$ = $\\frac{(0.9998)(0.9999)}{(0.9998)(0.9999) + (0.001)(0.0001)}$ = $\\frac{0.9988002}{0.9988002 + 0.0000001} \\approx 99.9999\\%$"
   ]
  },
  {
   "cell_type": "markdown",
   "id": "underlying-boxing",
   "metadata": {},
   "source": [
    "# 10"
   ]
  },
  {
   "cell_type": "code",
   "execution_count": 160,
   "id": "competent-money",
   "metadata": {},
   "outputs": [
    {
     "data": {
      "text/plain": [
       "[<matplotlib.lines.Line2D at 0x7fb958646280>]"
      ]
     },
     "execution_count": 160,
     "metadata": {},
     "output_type": "execute_result"
    },
    {
     "data": {
      "image/png": "[encoded data removed]",
      "text/plain": [
       "<Figure size 432x288 with 1 Axes>"
      ]
     },
     "metadata": {
      "needs_background": "light"
     },
     "output_type": "display_data"
    }
   ],
   "source": [
    "measles = pd.read_csv(\"Measles.csv\", header=None)\n",
    "measlesX = measles.set_index(0)\n",
    "plt.plot(measlesX.sum(1))"
   ]
  },
  {
   "cell_type": "code",
   "execution_count": 157,
   "id": "impaired-corruption",
   "metadata": {},
   "outputs": [
    {
     "data": {
      "text/plain": [
       "<BarContainer object of 12 artists>"
      ]
     },
     "execution_count": 157,
     "metadata": {},
     "output_type": "execute_result"
    },
    {
     "data": {
      "image/png": "[encoded data removed]",
      "text/plain": [
       "<Figure size 432x288 with 1 Axes>"
      ]
     },
     "metadata": {
      "needs_background": "light"
     },
     "output_type": "display_data"
    }
   ],
   "source": [
    "mumps = pd.read_csv(\"Mumps.csv\", header=None)\n",
    "mumpsX = mumps.transpose()\n",
    "mumpsX = mumpsX.sum(1).to_list()\n",
    "plt.bar(range(1,13), mumpsX[1:])\n"
   ]
  },
  {
   "cell_type": "code",
   "execution_count": 199,
   "id": "latter-shipping",
   "metadata": {},
   "outputs": [
    {
     "data": {
      "image/png": "[encoded data removed]",
      "text/plain": [
       "<Figure size 432x288 with 1 Axes>"
      ]
     },
     "metadata": {
      "needs_background": "light"
     },
     "output_type": "display_data"
    }
   ],
   "source": [
    "measles = pd.read_csv(\"Measles.csv\", header=None)\n",
    "measles = measles.set_index(0)\n",
    "mumps = pd.read_csv(\"Mumps.csv\", header=None)\n",
    "mumps = mumps.set_index(0)\n",
    "for i in range(12):\n",
    "    plt.scatter(mumps.iloc[:,i], measles.iloc[:,i], c='blue')"
   ]
  },
  {
   "cell_type": "code",
   "execution_count": 198,
   "id": "authentic-movie",
   "metadata": {},
   "outputs": [
    {
     "data": {
      "image/png": "[encoded data removed]",
      "text/plain": [
       "<Figure size 432x288 with 1 Axes>"
      ]
     },
     "metadata": {
      "needs_background": "light"
     },
     "output_type": "display_data"
    }
   ],
   "source": [
    "measles = pd.read_csv(\"Measles.csv\", header=None)\n",
    "measles = measles.set_index(0)\n",
    "mumps = pd.read_csv(\"Mumps.csv\", header=None)\n",
    "mumps = mumps.set_index(0)\n",
    "plot = plt.gca()\n",
    "plot.set_xscale('log')\n",
    "plot.set_yscale('log')\n",
    "for i in range(12):\n",
    "    plot.scatter(mumps.iloc[:,i], measles.iloc[:,i], c='blue')"
   ]
  }
 ],
 "metadata": {
  "kernelspec": {
   "display_name": "dsenv",
   "language": "python",
   "name": "dsenv"
  },
  "language_info": {
   "codemirror_mode": {
    "name": "ipython",
    "version": 3
   },
   "file_extension": ".py",
   "mimetype": "text/x-python",
   "name": "python",
   "nbconvert_exporter": "python",
   "pygments_lexer": "ipython3",
   "version": "3.8.5"
  }
 },
 "nbformat": 4,
 "nbformat_minor": 5
}

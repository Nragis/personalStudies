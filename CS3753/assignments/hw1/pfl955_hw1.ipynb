{
 "cells": [
  {
   "cell_type": "markdown",
   "id": "imported-revolution",
   "metadata": {},
   "source": [
    "# CS3757 HW 1\n",
    "Name: Quinn Murphey \\\n",
    "ID: pfl955 \\\n",
    "Date: 2/7/21 \\\n",
    "Class: CS3753 \\\n",
    "Section: 001 \\\n",
    "\\\n",
    "Instructions: Run whole notebook sequentially (may run at bootup depending on jupyter settings)."
   ]
  },
  {
   "cell_type": "markdown",
   "id": "banner-dining",
   "metadata": {
    "toc-hr-collapsed": true
   },
   "source": [
    "## String"
   ]
  },
  {
   "cell_type": "markdown",
   "id": "cellular-burning",
   "metadata": {},
   "source": [
    "### 1. Create the String ```str``` with \"Welcome to Python Programming\""
   ]
  },
  {
   "cell_type": "code",
   "execution_count": 1,
   "id": "explicit-massachusetts",
   "metadata": {},
   "outputs": [],
   "source": [
    "str = 'Welcome to Python Programming'"
   ]
  },
  {
   "cell_type": "markdown",
   "id": "specialized-insured",
   "metadata": {},
   "source": [
    "### 2. Output the string using the function ```print```"
   ]
  },
  {
   "cell_type": "code",
   "execution_count": 2,
   "id": "usual-zealand",
   "metadata": {},
   "outputs": [
    {
     "name": "stdout",
     "output_type": "stream",
     "text": [
      "Welcome to Python Programming\n"
     ]
    }
   ],
   "source": [
    "print(str)"
   ]
  },
  {
   "cell_type": "markdown",
   "id": "brilliant-behavior",
   "metadata": {},
   "source": [
    "### 3. Output the substring from the indexes 11 to 16 (inclusive)"
   ]
  },
  {
   "cell_type": "code",
   "execution_count": 3,
   "id": "inner-insulin",
   "metadata": {},
   "outputs": [
    {
     "name": "stdout",
     "output_type": "stream",
     "text": [
      "Python\n"
     ]
    }
   ],
   "source": [
    "print(str[11:16 + 1])"
   ]
  },
  {
   "cell_type": "markdown",
   "id": "pleased-target",
   "metadata": {},
   "source": [
    "### 4. Output the substring of the last 5 characters"
   ]
  },
  {
   "cell_type": "code",
   "execution_count": 4,
   "id": "mighty-requirement",
   "metadata": {},
   "outputs": [
    {
     "name": "stdout",
     "output_type": "stream",
     "text": [
      "mming\n"
     ]
    }
   ],
   "source": [
    "print(str[-5:])"
   ]
  },
  {
   "cell_type": "markdown",
   "id": "finnish-emission",
   "metadata": {},
   "source": [
    "### 5. Concatenate the string '!!!' to the end of the string ```str```"
   ]
  },
  {
   "cell_type": "code",
   "execution_count": 5,
   "id": "qualified-shelf",
   "metadata": {},
   "outputs": [],
   "source": [
    "str += '!!!'"
   ]
  },
  {
   "cell_type": "markdown",
   "id": "expanded-proposal",
   "metadata": {},
   "source": [
    "### 6. Output the string ```str```"
   ]
  },
  {
   "cell_type": "code",
   "execution_count": 6,
   "id": "durable-direction",
   "metadata": {},
   "outputs": [
    {
     "name": "stdout",
     "output_type": "stream",
     "text": [
      "Welcome to Python Programming!!!\n"
     ]
    }
   ],
   "source": [
    "print(str)"
   ]
  },
  {
   "cell_type": "markdown",
   "id": "therapeutic-blank",
   "metadata": {
    "toc-hr-collapsed": true
   },
   "source": [
    "## List"
   ]
  },
  {
   "cell_type": "markdown",
   "id": "registered-display",
   "metadata": {},
   "source": [
    "### 1. Create an empty list"
   ]
  },
  {
   "cell_type": "code",
   "execution_count": 7,
   "id": "critical-david",
   "metadata": {},
   "outputs": [],
   "source": [
    "myList = []"
   ]
  },
  {
   "cell_type": "markdown",
   "id": "soviet-clear",
   "metadata": {},
   "source": [
    "### 2. Add the elements 1, 2, 3, 4 to the list one by one and output the list after all the additions"
   ]
  },
  {
   "cell_type": "code",
   "execution_count": 8,
   "id": "flying-compensation",
   "metadata": {},
   "outputs": [
    {
     "name": "stdout",
     "output_type": "stream",
     "text": [
      "[1, 2, 3, 4]\n"
     ]
    }
   ],
   "source": [
    "myList.append(1)\n",
    "myList.append(2)\n",
    "myList.append(3)\n",
    "myList.append(4)\n",
    "\n",
    "print(myList)"
   ]
  },
  {
   "cell_type": "markdown",
   "id": "previous-decade",
   "metadata": {},
   "source": [
    "### 3. Add the tuple ```(5,6)``` as an element to the end of the list and output the list"
   ]
  },
  {
   "cell_type": "code",
   "execution_count": 9,
   "id": "handled-matrix",
   "metadata": {},
   "outputs": [
    {
     "name": "stdout",
     "output_type": "stream",
     "text": [
      "[1, 2, 3, 4, (5, 6)]\n"
     ]
    }
   ],
   "source": [
    "myList.append((5,6))\n",
    "\n",
    "print(myList)"
   ]
  },
  {
   "cell_type": "markdown",
   "id": "separate-progress",
   "metadata": {},
   "source": [
    "### 4. Add the list ```['perfect', 'wonderful']``` as an element to the end of the list and output the list"
   ]
  },
  {
   "cell_type": "code",
   "execution_count": 10,
   "id": "difficult-focus",
   "metadata": {},
   "outputs": [
    {
     "name": "stdout",
     "output_type": "stream",
     "text": [
      "[1, 2, 3, 4, (5, 6), ['perfect', 'wonderful']]\n"
     ]
    }
   ],
   "source": [
    "myList.append(['perfect','wonderful'])\n",
    "\n",
    "print(myList)"
   ]
  },
  {
   "cell_type": "markdown",
   "id": "coastal-exhaust",
   "metadata": {},
   "source": [
    "### 5. Concatenate the list ```[[7, 8], [9, 10]]``` to the end of the list and output the list"
   ]
  },
  {
   "cell_type": "code",
   "execution_count": 11,
   "id": "gothic-makeup",
   "metadata": {},
   "outputs": [
    {
     "name": "stdout",
     "output_type": "stream",
     "text": [
      "[1, 2, 3, 4, (5, 6), ['perfect', 'wonderful'], [7, 8], [9, 10]]\n"
     ]
    }
   ],
   "source": [
    "myList.extend([[7, 8], [9, 10]])\n",
    "\n",
    "print(myList)"
   ]
  },
  {
   "cell_type": "markdown",
   "id": "documented-potato",
   "metadata": {},
   "source": [
    "### 6. Add the multiple elements ```8.5, 7, 'code', 'software'``` to the end of the list at once and output the list"
   ]
  },
  {
   "cell_type": "code",
   "execution_count": 12,
   "id": "adjacent-sailing",
   "metadata": {},
   "outputs": [
    {
     "name": "stdout",
     "output_type": "stream",
     "text": [
      "[1, 2, 3, 4, (5, 6), ['perfect', 'wonderful'], [7, 8], [9, 10], 8.5, 7, 'code', 'software']\n"
     ]
    }
   ],
   "source": [
    "myList.extend([8.5, 7, 'code', 'software'])\n",
    "\n",
    "print(myList)"
   ]
  },
  {
   "cell_type": "markdown",
   "id": "expected-honduras",
   "metadata": {},
   "source": [
    "### 7. Output the last 5 elements in the list"
   ]
  },
  {
   "cell_type": "code",
   "execution_count": 13,
   "id": "suburban-falls",
   "metadata": {},
   "outputs": [
    {
     "name": "stdout",
     "output_type": "stream",
     "text": [
      "[[9, 10], 8.5, 7, 'code', 'software']\n"
     ]
    }
   ],
   "source": [
    "print(myList[-5:])"
   ]
  },
  {
   "cell_type": "markdown",
   "id": "vital-designation",
   "metadata": {},
   "source": [
    "### 8. Remove the elements from indexes 3 to 6 and output the list"
   ]
  },
  {
   "cell_type": "code",
   "execution_count": 14,
   "id": "dense-canadian",
   "metadata": {},
   "outputs": [
    {
     "name": "stdout",
     "output_type": "stream",
     "text": [
      "[1, 2, 3, [9, 10], 8.5, 7, 'code', 'software']\n"
     ]
    }
   ],
   "source": [
    "myList = [e for e in myList if e not in myList[3:6+1]]\n",
    "print(myList)"
   ]
  },
  {
   "cell_type": "markdown",
   "id": "fuzzy-eugene",
   "metadata": {
    "toc-hr-collapsed": true
   },
   "source": [
    "## Tuple"
   ]
  },
  {
   "cell_type": "markdown",
   "id": "elementary-arena",
   "metadata": {},
   "source": [
    "### 1. Create a tuple ```Tuple1``` using the list with elements ```1, 2, 3, 4``` and output the tuple"
   ]
  },
  {
   "cell_type": "code",
   "execution_count": 15,
   "id": "involved-sharing",
   "metadata": {},
   "outputs": [
    {
     "name": "stdout",
     "output_type": "stream",
     "text": [
      "(1, 2, 3, 4)\n"
     ]
    }
   ],
   "source": [
    "Tuple1 = tuple([1, 2, 3, 4])\n",
    "\n",
    "print(Tuple1)"
   ]
  },
  {
   "cell_type": "markdown",
   "id": "exposed-robin",
   "metadata": {},
   "source": [
    "### 2. Create another tuple ```Tuple2``` with elements ```‘Python’, ‘for’, and ‘kids’``` directly and output the tuple"
   ]
  },
  {
   "cell_type": "code",
   "execution_count": 16,
   "id": "atomic-saver",
   "metadata": {},
   "outputs": [
    {
     "name": "stdout",
     "output_type": "stream",
     "text": [
      "('Python', 'for', 'kids')\n"
     ]
    }
   ],
   "source": [
    "Tuple2 = ('Python', 'for', 'kids')\n",
    "\n",
    "print(Tuple2)"
   ]
  },
  {
   "cell_type": "markdown",
   "id": "molecular-travel",
   "metadata": {},
   "source": [
    "### 3. Concatenate the tuple ```Tuple1``` to the end of ```Tuple2``` and assing the resulting tuple to ```Tuple1``` and output the tuple"
   ]
  },
  {
   "cell_type": "code",
   "execution_count": 17,
   "id": "peripheral-singapore",
   "metadata": {},
   "outputs": [
    {
     "name": "stdout",
     "output_type": "stream",
     "text": [
      "(1, 2, 3, 4, 'Python', 'for', 'kids')\n"
     ]
    }
   ],
   "source": [
    "Tuple1 = Tuple1 + Tuple2\n",
    "\n",
    "print(Tuple1)"
   ]
  },
  {
   "cell_type": "markdown",
   "id": "final-image",
   "metadata": {},
   "source": [
    "### 4. Output elements from index 3 to the end"
   ]
  },
  {
   "cell_type": "code",
   "execution_count": 18,
   "id": "subsequent-happiness",
   "metadata": {},
   "outputs": [
    {
     "name": "stdout",
     "output_type": "stream",
     "text": [
      "(4, 'Python', 'for', 'kids')\n"
     ]
    }
   ],
   "source": [
    "print(Tuple1[3:])"
   ]
  },
  {
   "cell_type": "markdown",
   "id": "measured-export",
   "metadata": {
    "toc-hr-collapsed": true
   },
   "source": [
    "## Dictionary"
   ]
  },
  {
   "cell_type": "markdown",
   "id": "applied-block",
   "metadata": {},
   "source": [
    "### 1.  Create an empty dictionary ```Dict```"
   ]
  },
  {
   "cell_type": "code",
   "execution_count": 19,
   "id": "tutorial-debut",
   "metadata": {},
   "outputs": [],
   "source": [
    "Dict = {}"
   ]
  },
  {
   "cell_type": "markdown",
   "id": "equivalent-editor",
   "metadata": {},
   "source": [
    "### 2. Add the elements ```0: ‘Python’, 1: ‘Programming’, 2: ‘Funny’``` one by one and output the dictionary"
   ]
  },
  {
   "cell_type": "code",
   "execution_count": 20,
   "id": "stable-oregon",
   "metadata": {},
   "outputs": [
    {
     "name": "stdout",
     "output_type": "stream",
     "text": [
      "{0: 'Python', 1: 'Programming', 2: 'Funny'}\n"
     ]
    }
   ],
   "source": [
    "Dict[0] = 'Python'\n",
    "Dict[1] = 'Programming'\n",
    "Dict[2] = 'Funny'\n",
    "\n",
    "print(Dict)"
   ]
  },
  {
   "cell_type": "markdown",
   "id": "successful-manitoba",
   "metadata": {},
   "source": [
    "### 3. Update the key 1's value to ```'is very'``` and output the dictionary."
   ]
  },
  {
   "cell_type": "code",
   "execution_count": 21,
   "id": "proprietary-brush",
   "metadata": {},
   "outputs": [],
   "source": [
    "Dict[1] = 'is very'"
   ]
  },
  {
   "cell_type": "markdown",
   "id": "sitting-testimony",
   "metadata": {},
   "source": [
    "### 4. Output all the keys"
   ]
  },
  {
   "cell_type": "code",
   "execution_count": 22,
   "id": "dimensional-happiness",
   "metadata": {},
   "outputs": [
    {
     "name": "stdout",
     "output_type": "stream",
     "text": [
      "dict_keys([0, 1, 2])\n"
     ]
    }
   ],
   "source": [
    "print(Dict.keys())"
   ]
  },
  {
   "cell_type": "markdown",
   "id": "demographic-turning",
   "metadata": {},
   "source": [
    "### 5. Output all the Values"
   ]
  },
  {
   "cell_type": "code",
   "execution_count": 23,
   "id": "regulated-macintosh",
   "metadata": {},
   "outputs": [
    {
     "name": "stdout",
     "output_type": "stream",
     "text": [
      "dict_values(['Python', 'is very', 'Funny'])\n"
     ]
    }
   ],
   "source": [
    "print(Dict.values())"
   ]
  },
  {
   "cell_type": "markdown",
   "id": "casual-detroit",
   "metadata": {},
   "source": [
    "### 6. Delete the element with the key 2 and output the dictionary"
   ]
  },
  {
   "cell_type": "code",
   "execution_count": 24,
   "id": "proof-decline",
   "metadata": {},
   "outputs": [
    {
     "name": "stdout",
     "output_type": "stream",
     "text": [
      "{0: 'Python', 1: 'is very'}\n"
     ]
    }
   ],
   "source": [
    "if 2 in Dict : del Dict[2]\n",
    "print(Dict)"
   ]
  },
  {
   "cell_type": "markdown",
   "id": "legitimate-pennsylvania",
   "metadata": {},
   "source": [
    "### 7. Check for the existence of key 2"
   ]
  },
  {
   "cell_type": "code",
   "execution_count": 25,
   "id": "aggregate-death",
   "metadata": {},
   "outputs": [
    {
     "name": "stdout",
     "output_type": "stream",
     "text": [
      "False\n"
     ]
    }
   ],
   "source": [
    "print(2 in Dict)"
   ]
  },
  {
   "cell_type": "markdown",
   "id": "suitable-refrigerator",
   "metadata": {},
   "source": [
    "### 8 Convert the Dict to a list (only the values). Then output the list."
   ]
  },
  {
   "cell_type": "code",
   "execution_count": 26,
   "id": "liquid-kansas",
   "metadata": {},
   "outputs": [
    {
     "name": "stdout",
     "output_type": "stream",
     "text": [
      "['Python', 'is very']\n"
     ]
    }
   ],
   "source": [
    "List = list(Dict.values())\n",
    "\n",
    "print(List)"
   ]
  }
 ],
 "metadata": {
  "kernelspec": {
   "display_name": "dsenv",
   "language": "python",
   "name": "dsenv"
  },
  "language_info": {
   "codemirror_mode": {
    "name": "ipython",
    "version": 3
   },
   "file_extension": ".py",
   "mimetype": "text/x-python",
   "name": "python",
   "nbconvert_exporter": "python",
   "pygments_lexer": "ipython3",
   "version": "3.8.5"
  }
 },
 "nbformat": 4,
 "nbformat_minor": 5
}
